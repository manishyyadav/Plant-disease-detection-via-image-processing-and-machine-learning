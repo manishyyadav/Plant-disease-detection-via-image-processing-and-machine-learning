{
 "cells": [
  {
   "cell_type": "code",
   "execution_count": 4,
   "metadata": {},
   "outputs": [
    {
     "data": {
      "text/plain": [
       "True"
      ]
     },
     "execution_count": 4,
     "metadata": {},
     "output_type": "execute_result"
    }
   ],
   "source": [
    "import cv2\n",
    "import numpy as np\n",
    "\n",
    "filename = '1_g8.jpg'\n",
    "main_img = cv2.imread(filename)\n",
    "img = cv2.cvtColor(main_img, cv2.COLOR_BGR2RGB)\n",
    "#except:\n",
    "#    return \"Invalid\"\n",
    "\n",
    "#Preprocessing\n",
    "\n",
    "\n",
    "gs = cv2.cvtColor(img,cv2.COLOR_RGB2GRAY)\n",
    "cv2.imwrite('greayscale.png',gs)\n",
    "\n",
    "blur = cv2.GaussianBlur(gs, (25,25),0)\n",
    "cv2.imwrite('blur.png',blur)\n",
    "\n",
    "ret_otsu,im_bw_otsu = cv2.threshold(blur,0,255,cv2.THRESH_BINARY_INV+cv2.THRESH_OTSU)\n",
    "cv2.imwrite('otsus.png',im_bw_otsu)\n",
    "\n",
    "kernel = np.ones((25,25),np.uint8)\n",
    "closing = cv2.morphologyEx(im_bw_otsu, cv2.MORPH_CLOSE, kernel)\n",
    "cv2.imwrite('closing.png',closing)\n",
    "\n",
    "# Shape features - Find contours\n",
    "contours, _ = cv2.findContours(closing, cv2.RETR_TREE, cv2.CHAIN_APPROX_SIMPLE)\n",
    "\n",
    "# Draw contours on the original image\n",
    "contour_img = np.zeros_like(main_img)\n",
    "cv2.drawContours(contour_img, contours, -1, (0, 255, 0), 3)  # Draw all contours in green (0, 255, 0) with thickness 3\n",
    "\n",
    "cv2.imwrite('contours.png', contour_img)\n",
    "\n",
    "\n",
    "\n",
    "#Elementwise Multiplication of range bounded filtered_image with current_frame\n",
    "current_frame[0:current_frame.shape[0], 0:current_frame.shape[1], 0] = np.multiply(current_frame[0:current_frame.shape[0], 0:current_frame.shape[1], 0], filtered_image) #B channel\n",
    "current_frame[0:current_frame.shape[0], 0:current_frame.shape[1], 1] = np.multiply(current_frame[0:current_frame.shape[0], 0:current_frame.shape[1], 1], filtered_image) #G channel\n",
    "current_frame[0:current_frame.shape[0], 0:current_frame.shape[1], 2] = np.multiply(current_frame[0:current_frame.shape[0], 0:current_frame.shape[1], 2], filtered_image) #R channel\n",
    "\n",
    "cv2.imwrite('final_output.png',current_frame)\n"
   ]
  },
  {
   "cell_type": "code",
   "execution_count": null,
   "metadata": {},
   "outputs": [],
   "source": []
  }
 ],
 "metadata": {
  "kernelspec": {
   "display_name": "Python 3",
   "language": "python",
   "name": "python3"
  },
  "language_info": {
   "codemirror_mode": {
    "name": "ipython",
    "version": 3
   },
   "file_extension": ".py",
   "mimetype": "text/x-python",
   "name": "python",
   "nbconvert_exporter": "python",
   "pygments_lexer": "ipython3",
   "version": "3.9.13"
  }
 },
 "nbformat": 4,
 "nbformat_minor": 2
}
